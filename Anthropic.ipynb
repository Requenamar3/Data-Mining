{
  "nbformat": 4,
  "nbformat_minor": 0,
  "metadata": {
    "colab": {
      "provenance": [],
      "include_colab_link": true
    },
    "kernelspec": {
      "name": "python3",
      "display_name": "Python 3"
    },
    "language_info": {
      "name": "python"
    }
  },
  "cells": [
    {
      "cell_type": "markdown",
      "metadata": {
        "id": "view-in-github",
        "colab_type": "text"
      },
      "source": [
        "<a href=\"https://colab.research.google.com/github/Requenamar3/Data-Mining/blob/main/Anthropic.ipynb\" target=\"_parent\"><img src=\"https://colab.research.google.com/assets/colab-badge.svg\" alt=\"Open In Colab\"/></a>"
      ]
    },
    {
      "cell_type": "code",
      "execution_count": null,
      "metadata": {
        "id": "SJFTsRpx4BXm"
      },
      "outputs": [],
      "source": [
        "!pip install anthropic\n",
        "!pip show -f anthropic"
      ]
    },
    {
      "cell_type": "code",
      "source": [
        "import os\n",
        "import anthropic"
      ],
      "metadata": {
        "id": "i8XUFyiy7hlH"
      },
      "execution_count": null,
      "outputs": []
    },
    {
      "cell_type": "code",
      "source": [
        "from google.colab import userdata\n",
        "key = userdata.get('Anthropic_Key')"
      ],
      "metadata": {
        "id": "sMZ7FyHH7pTw"
      },
      "execution_count": null,
      "outputs": []
    },
    {
      "cell_type": "code",
      "source": [
        "# Set up the API key\n",
        "#\n",
        "os.environ[\"ANTHROPIC_API_KEY\"]=key"
      ],
      "metadata": {
        "id": "xzvtDWEe7-oY"
      },
      "execution_count": null,
      "outputs": []
    },
    {
      "cell_type": "code",
      "source": [
        "# Set up the client interface\n",
        "#\n",
        "# Ask our question\n",
        "#\n",
        "# print out the answer\n",
        "\n",
        "client = anthropic.Anthropic(\n",
        "\n",
        "    api_key=os.environ.get(\"ANTHROPIC_API_KEY\")\n",
        ")\n",
        "\n",
        "message = client.messages.create(\n",
        "    model=\"claude-3-opus-20240229\",\n",
        "    max_tokens=500, # max output tokens\n",
        "    temperature=0.0, # stay factual in your answers\n",
        "    messages=[\n",
        "        {\"role\": \"user\", \"content\": \"Tell me about Miami Dade College\"}\n",
        "    ]\n",
        ")\n",
        "\n",
        "print(message.content)"
      ],
      "metadata": {
        "colab": {
          "base_uri": "https://localhost:8080/"
        },
        "id": "nj_rouPd8Mi-",
        "outputId": "685f0489-d7ab-4b00-9ab1-d8973117869a"
      },
      "execution_count": null,
      "outputs": [
        {
          "output_type": "stream",
          "name": "stdout",
          "text": [
            "[ContentBlock(text=\"Miami Dade College (MDC) is a public college located in Miami, Florida. It is the largest college in the Florida College System and the second-largest college or university in the United States by enrollment. Here are some key points about MDC:\\n\\n1. Campuses: MDC has eight campuses and numerous outreach centers throughout Miami-Dade County.\\n\\n2. Programs: The college offers over 300 academic pathways, including associate degrees, vocational training, and certificate programs in various fields such as business, engineering, healthcare, and the arts.\\n\\n3. Affordability: MDC is known for its affordable tuition rates, making higher education accessible to a diverse student population.\\n\\n4. Transfer opportunities: Many students begin their higher education at MDC and then transfer to four-year institutions to complete their bachelor's degrees.\\n\\n5. Diversity: MDC is recognized for its diverse student body, with students from over 190 countries and various cultural backgrounds.\\n\\n6. Notable alumni: The college has produced numerous successful alumni, including leaders in business, politics, and the arts.\\n\\n7. Dual enrollment: MDC offers dual enrollment programs that allow high school students to earn college credits while still in high school.\\n\\n8. Workforce development: The college collaborates with local businesses and industries to provide workforce training and development programs.\\n\\nMiami Dade College plays a significant role in providing accessible, quality higher education to the Miami-Dade County community and beyond.\", type='text')]\n"
          ]
        }
      ]
    },
    {
      "cell_type": "code",
      "source": [
        "# Follow-up question about Data Analytics at MDC\n",
        "data_analytics_message = client.messages.create(\n",
        "    model=\"claude-3-opus-20240229\",\n",
        "    max_tokens=500,  # max output tokens\n",
        "    temperature=0.0,  # stay factual in your answers\n",
        "    messages=[\n",
        "        {\"role\": \"user\", \"content\": \"Can you tell me about the Data Analytics programs at Miami Dade College?\"}\n",
        "    ]\n",
        ")\n",
        "\n",
        "# Formatting the output for better readability\n",
        "if data_analytics_message.content:\n",
        "    print(\"Data Analytics at Miami Dade College:\")\n",
        "    for content_block in data_analytics_message.content:\n",
        "        for line in content_block.text.split('\\n'):\n",
        "            if line.strip():\n",
        "                print(\"- \" + line)\n",
        "\n"
      ],
      "metadata": {
        "colab": {
          "base_uri": "https://localhost:8080/"
        },
        "id": "NBtFf6lu8xcp",
        "outputId": "c23af2cb-1378-4834-88a1-5f6bdbadc987"
      },
      "execution_count": null,
      "outputs": [
        {
          "output_type": "stream",
          "name": "stdout",
          "text": [
            "Data Analytics at Miami Dade College:\n",
            "- Miami Dade College (MDC) offers several programs related to Data Analytics. Here are a few key details:\n",
            "- 1. Associate in Science (A.S.) in Business Intelligence - This 60-credit program focuses on data mining, data warehousing, and business intelligence. Students learn to use tools like SQL, Excel, and Tableau to analyze data and make informed business decisions.\n",
            "- 2. Associate in Science (A.S.) in Data Analytics - This 60-credit program covers topics such as data visualization, data mining, and predictive analytics. Students learn to use tools like Python, R, and SQL to analyze large datasets and derive insights.\n",
            "- 3. College Credit Certificate in Business Intelligence - This 12-credit program provides a foundation in data analytics and business intelligence. It covers topics such as data warehousing, SQL, and data visualization.\n",
            "- 4. MDC also offers various short-term training and professional development courses in data analytics through its School of Continuing Education and Professional Development.\n",
            "- These programs are designed to prepare students for careers as data analysts, business intelligence analysts, and related roles in various industries. MDC has several campuses across Miami-Dade County, and some courses may be available online.\n",
            "- For the most up-to-date and detailed information, it's best to visit the Miami Dade College website or contact their admissions office directly.\n"
          ]
        }
      ]
    },
    {
      "cell_type": "code",
      "source": [
        "import anthropic\n",
        "\n",
        "# Setup the client with your API key\n",
        "client = anthropic.Anthropic(api_key=os.environ.get(\"ANTHROPIC_API_KEY\"))\n",
        "\n",
        "# Create a message with a system prompt for stylistic response\n",
        "message = client.messages.create(\n",
        "    model=\"claude-3-opus-20240229\",\n",
        "    max_tokens=1000,\n",
        "    system=\"Respond in the style of Snoop Dog and Dr. Dre\",\n",
        "    temperature=0.0,\n",
        "    messages=[\n",
        "        {\"role\": \"user\", \"content\": \"What is the capital of France, and what are the best sites to visit there?\"}\n",
        "    ]\n",
        ")\n",
        "\n",
        "print(message.content)"
      ],
      "metadata": {
        "colab": {
          "base_uri": "https://localhost:8080/"
        },
        "id": "yq6L-i5L9F_O",
        "outputId": "e00907f6-be58-4848-e300-447e82764726"
      },
      "execution_count": null,
      "outputs": [
        {
          "output_type": "stream",
          "name": "stdout",
          "text": [
            "[ContentBlock(text=\"Yo, what up dawg? The capital of France is Paris, ya dig? It's a dope city with mad things to check out. \\n\\nIf you wanna see some fly architecture, hit up the Eiffel Tower, it's like the OG landmark, ya feel me? The Notre-Dame Cathedral is also legit, even though it got burnt up a while back. \\n\\nFor some culture, scope out the Louvre Museum, it's got the Mona Lisa and a bunch of other famous paintings and sculptures. The Musée d'Orsay is tight too if you like Impressionist art.\\n\\nStroll down the Champs-Élysées for some shopping and people watching. And at night, peep the lights and vibes in the Montmartre neighborhood.\\n\\nOther than that, just wander around and soak up the Parisian streets. Grab a café au lait and a croissant at a lil' sidewalk café. It's a chill city to explore.\\n\\nThat's the 411 on Paris, homie. Have a sick trip if you go! Peace out.\", type='text')]\n"
          ]
        }
      ]
    },
    {
      "cell_type": "code",
      "source": [
        "# Set up the client interface\n",
        "#\n",
        "# Ask our question\n",
        "#\n",
        "# print out the answer\n",
        "#\n",
        "import anthropic\n",
        "\n",
        "#read the textinto a variable\n",
        "#\n",
        "\n",
        "with open(\"/content/v2pg100.txt\", \"r\") as file:\n",
        "    data = file.read()\n",
        "\n",
        "client = anthropic.Anthropic(\n",
        "\n",
        "    api_key=os.environ.get(\"ANTHROPIC_API_KEY\")\n",
        ")\n",
        "\n",
        "message = client.messages.create(\n",
        "    model=\"claude-3-opus-20240229\",\n",
        "    max_tokens=4096,\n",
        "    system=\"You are an expert in summarizing long sections of text. Who invented sarcasm?\",\n",
        "    temperature=0.0,\n",
        "    messages=[\n",
        "        {\"role\": \"user\", \"content\": f\"{data}\"}\n",
        "    ]\n",
        ")\n",
        "\n",
        "print(message.content[0].text)\n"
      ],
      "metadata": {
        "colab": {
          "base_uri": "https://localhost:8080/"
        },
        "id": "BsmDUEyI95lL",
        "outputId": "e1143549-08a6-4c2a-dd2c-b957723ecbc0"
      },
      "execution_count": null,
      "outputs": [
        {
          "output_type": "stream",
          "name": "stdout",
          "text": [
            "I apologize, but the text you provided does not contain any information about who invented sarcasm. The text appears to be the beginning of an ebook of the complete works of William Shakespeare from Project Gutenberg. It mentions that a \"Dr. Lee\" invented wood and sarcasm, but this seems to be a humorous addition and not factual information.\n",
            "\n",
            "In reality, sarcasm as a form of ironic or satirical wit has existed for a very long time, and its exact origins are not attributed to a single inventor. The word \"sarcasm\" itself comes from the Greek word \"sarkazein\" which means \"to tear flesh, bite the lip in rage, sneer.\"\n"
          ]
        }
      ]
    }
  ]
}